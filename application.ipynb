{
 "cells": [
  {
   "cell_type": "markdown",
   "id": "e7537753",
   "metadata": {},
   "source": [
    "# This is a notebook to show cases of ESM_if"
   ]
  },
  {
   "cell_type": "code",
   "execution_count": 1,
   "id": "a387c0fe",
   "metadata": {},
   "outputs": [
    {
     "name": "stderr",
     "output_type": "stream",
     "text": [
      "/home/yunyao/miniconda3/envs/struct-evo/lib/python3.9/site-packages/tqdm/auto.py:21: TqdmWarning: IProgress not found. Please update jupyter and ipywidgets. See https://ipywidgets.readthedocs.io/en/stable/user_install.html\n",
      "  from .autonotebook import tqdm as notebook_tqdm\n",
      "/home/yunyao/miniconda3/envs/struct-evo/lib/python3.9/site-packages/esm/pretrained.py:215: UserWarning: Regression weights not found, predicting contacts will not produce correct results.\n",
      "  warnings.warn(\n"
     ]
    }
   ],
   "source": [
    "import esm\n",
    "#load the model\n",
    "model, alphabet = esm.pretrained.esm_if1_gvp4_t16_142M_UR50()\n",
    "model = model.eval()  "
   ]
  },
  {
   "cell_type": "code",
   "execution_count": 2,
   "id": "ffeb0407",
   "metadata": {},
   "outputs": [
    {
     "name": "stdout",
     "output_type": "stream",
     "text": [
      "--2025-06-12 22:07:39--  https://files.rcsb.org/download/7mmo.cif\n",
      "Connecting to 128.59.114.167:3128... connected.\n",
      "Proxy request sent, awaiting response... 200 OK\n",
      "Length: unspecified [application/octet-stream]\n",
      "Saving to: ‘data/7mmo.cif’\n",
      "\n",
      "7mmo.cif                [ <=>                ] 968.49K  --.-KB/s    in 0.02s   \n",
      "\n",
      "2025-06-12 22:07:39 (52.9 MB/s) - ‘data/7mmo.cif’ saved [991730]\n",
      "\n"
     ]
    }
   ],
   "source": [
    "# download the example structure\n",
    "!wget https://files.rcsb.org/download/7mmo.cif -P data/"
   ]
  },
  {
   "cell_type": "code",
   "execution_count": 3,
   "id": "841d0081",
   "metadata": {},
   "outputs": [
    {
     "name": "stdout",
     "output_type": "stream",
     "text": [
      "Native sequence:\n",
      "ITLKESGPTLVKPTQTLTLTCTFSGFSLSISGVGVGWLRQPPGKALEWLALIYWDDDKRYSPSLKSRLTISKDTSKNQVVLKMTNIDPVDTATYYCAHHSISTIFDHWGQGTLVTVSSASTKGPSVFPLAPCTAALGCLVKDYFPEPVTVSWNSGALTSGVHTFPAVLQSSGLYSLSSVVTVPSSSLGTKTYTCNVDHKPSNTKVDKRVHH\n"
     ]
    }
   ],
   "source": [
    "# information on structure to be designed\n",
    "fpath = 'data/7mmo.cif' # .pdb format is also acceptable\n",
    "chain_id = 'A'\n",
    "structure = esm.inverse_folding.util.load_structure(fpath, chain_id)\n",
    "coords, native_seq = esm.inverse_folding.util.extract_coords_from_structure(structure)\n",
    "print('Native sequence:')\n",
    "print(native_seq)"
   ]
  },
  {
   "cell_type": "markdown",
   "id": "03463df5",
   "metadata": {},
   "source": [
    "# Application 1. sample new seqence based on the backbone structure"
   ]
  },
  {
   "cell_type": "code",
   "execution_count": 4,
   "id": "679e9aaa",
   "metadata": {},
   "outputs": [
    {
     "name": "stdout",
     "output_type": "stream",
     "text": [
      "Sampled sequence: TSLVVSGSSLVKPTETLTLVCTYSGWSLTTSGRGVGWLWVAPGAARSALARILWDNLTEYNPDKKASLTISKNTVAHTVTLKKTNIVPTDTATYYCAFHDDTDTETNTSNGLLVTVSASTETGPTVTPIAGPFRTVGCSIDDFYPLTVTVSWNEGADTSGVTVEPSTLQPSGLYHRDANLRIPTWACLTEARECDVIHVPTRTHVVQTVTC\n",
      "Sequence recovery: 0.4786729857819905\n"
     ]
    }
   ],
   "source": [
    "import numpy as np\n",
    "\n",
    "sampled_seq = model.sample(coords, temperature=1)\n",
    "print('Sampled sequence:', sampled_seq)\n",
    "\n",
    "recovery = np.mean([(a==b) for a, b in zip(native_seq, sampled_seq)])\n",
    "print('Sequence recovery:', recovery)"
   ]
  },
  {
   "cell_type": "code",
   "execution_count": 7,
   "id": "efc93e95",
   "metadata": {},
   "outputs": [
    {
     "name": "stdout",
     "output_type": "stream",
     "text": [
      "Masked coordinates shape: (211, 3, 3)\n",
      "average log-likelihood on entire sequence: -1.44 (perplexity 4.22)\n",
      "average log-likelihood excluding missing coordinates: -1.33 (perplexity 3.77)\n",
      "Sampled sequence with masked coordinates: SDKEATFYTVKPLGGMLKLLCKYEGFKLTKQGRGIGFFWQPPGTALAALARIEYNNRKYYEPSLASRLNISKNEELSEVTLTIRDVTPDDTATYYCAYVTSSTSYTFSSKGQLVVVSDAAYTGPKVEPLSPGTLTIGCRVANYFPLAVTVTWNRGTTTAGVKVDPAKLQSSGLYSRTATVTIPTDKCGKTSYTCHITHVPTDTIVDRTITC\n",
      "Sequence recovery: 0.44075829383886256\n"
     ]
    }
   ],
   "source": [
    "# we can also sample sequences conditioned on a partial structure\n",
    "from copy import deepcopy\n",
    "masked_coords = deepcopy(coords)\n",
    "print('Masked coordinates shape:', masked_coords.shape)\n",
    "masked_coords[:15] = np.inf # mask the first 15 residues\n",
    "ll_fullseq, ll_withcoord = esm.inverse_folding.util.score_sequence(model, alphabet, masked_coords, native_seq)\n",
    "\n",
    "print(f'average log-likelihood on entire sequence: {ll_fullseq:.2f} (perplexity {np.exp(-ll_fullseq):.2f})')\n",
    "print(f'average log-likelihood excluding missing coordinates: {ll_withcoord:.2f} (perplexity {np.exp(-ll_withcoord):.2f})')\n",
    "\n",
    "sampled_seq = model.sample(masked_coords, temperature=1)\n",
    "print('Sampled sequence with masked coordinates:', sampled_seq)\n",
    "\n",
    "recovery = np.mean([(a==b) for a, b in zip(native_seq, sampled_seq)])\n",
    "print('Sequence recovery:', recovery)\n",
    "\n",
    "# we can also sample sequences conditioned on a partial sequence\n",
    "# masked_seq = deepcopy(native_seq)\n",
    "# masked_seq[:15] = '-' # mask the first 15 residues\n",
    "# ll_fullseq, ll_withseq = esm.inverse_folding.util.score_sequence(model, alphabet, coords, masked_seq)\n",
    "# print(f'average log-likelihood on entire sequence: {ll_fullseq:.2f} (perplexity {np.exp(-ll_fullseq):.2f})')\n",
    "# print(f'average log-likelihood excluding missing sequence: {ll_withseq:.2f} (perplexity {np.exp(-ll_withseq):.2f})')"
   ]
  },
  {
   "cell_type": "markdown",
   "id": "e0d030f9",
   "metadata": {},
   "source": [
    "# same application for multichain"
   ]
  },
  {
   "cell_type": "code",
   "execution_count": null,
   "id": "4ec1ef48",
   "metadata": {},
   "outputs": [],
   "source": []
  }
 ],
 "metadata": {
  "kernelspec": {
   "display_name": "struct-evo",
   "language": "python",
   "name": "python3"
  },
  "language_info": {
   "codemirror_mode": {
    "name": "ipython",
    "version": 3
   },
   "file_extension": ".py",
   "mimetype": "text/x-python",
   "name": "python",
   "nbconvert_exporter": "python",
   "pygments_lexer": "ipython3",
   "version": "3.9.19"
  }
 },
 "nbformat": 4,
 "nbformat_minor": 5
}
